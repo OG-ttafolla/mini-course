{
 "cells": [
  {
   "cell_type": "markdown",
   "metadata": {},
   "source": [
    "### Print Working Directory (pwd)"
   ]
  },
  {
   "cell_type": "markdown",
   "metadata": {},
   "source": [
    "To know which directory you are in, you can use the `pwd` command.\n",
    "```\n",
    "(base) MacBook-Pro-2:mini-course jacquelinealvarez$ pwd\n",
    "/Users/jacquelinealvarez/repos/mini-course ```"
   ]
  },
  {
   "cell_type": "markdown",
   "metadata": {},
   "source": [
    "###  List (ls)"
   ]
  },
  {
   "cell_type": "markdown",
   "metadata": {},
   "source": [
    "The `ls` command lets you see the files/subfolders within your current directory.\n",
    "```\n",
    "(base) MacBook-Pro-2:mini-course jacquelinealvarez$ ls\n",
    "Cluster.ipynb\t\t\tUsing Git.ipynb\n",
    "Installing Software.ipynb\timages\n",
    "Linux Commands.ipynb\t\tpointers_joke.jpg\n",
    "README.md ```"
   ]
  },
  {
   "cell_type": "markdown",
   "metadata": {},
   "source": [
    "The `ls -l` commands lets you see permissions of each file/subfolder.\n",
    "```\n",
    "(base) MacBook-Pro-2:mini-course jacquelinealvarez$ ls -l\n",
    "total 104\n",
    "-rw-r--r--  1 jacquelinealvarez  staff   6640 Mar 20 08:41 Cluster.ipynb\n",
    "-rw-r--r--  1 jacquelinealvarez  staff   1984 Mar 13 09:41 Installing Software.ipynb\n",
    "-rw-r--r--  1 jacquelinealvarez  staff   1430 Mar 20 09:05 Linux Commands.ipynb\n",
    "-rw-r--r--  1 jacquelinealvarez  staff     13 Mar 13 10:46 README.md\n",
    "-rw-r--r--  1 jacquelinealvarez  staff  14795 Mar 20 08:29 Using Git.ipynb\n",
    "drwxr-xr-x  4 jacquelinealvarez  staff    128 Mar 13 09:00 images\n",
    "-rw-r--r--@ 1 jacquelinealvarez  staff  13464 Dec  8 21:55 pointers_joke.jpg ```"
   ]
  },
  {
   "cell_type": "markdown",
   "metadata": {},
   "source": [
    "The `ls -a` command lets you see ALL files/subfolders within you directory.\n",
    "```\n",
    "(base) MacBook-Pro-2:mini-course jacquelinealvarez$ ls -a\n",
    ".\t\t\t\tInstalling Software.ipynb\n",
    "..\t\t\t\tLinux Commands.ipynb\n",
    ".DS_Store\t\t\tREADME.md\n",
    ".git\t\t\t\tUsing Git.ipynb\n",
    ".ipynb_checkpoints\t\timages\n",
    "Cluster.ipynb\t\t\tpointers_joke.jpg ```"
   ]
  },
  {
   "cell_type": "markdown",
   "metadata": {},
   "source": [
    "### Change Directory (cd)"
   ]
  },
  {
   "cell_type": "markdown",
   "metadata": {},
   "source": [
    "To change into a different directory, you can use the `cd` command.\n",
    "```\n",
    "(base) MacBook-Pro-2:~ jacquelinealvarez$ cd repos\n",
    "(base) MacBook-Pro-2:repos jacquelinealvarez$ ```"
   ]
  },
  {
   "cell_type": "markdown",
   "metadata": {},
   "source": [
    "Now we can use `ls` to see what subdirectories or files are in our new current directory\n",
    "```\n",
    "(base) MacBook-Pro-2:repos jacquelinealvarez$ ls\n",
    "MATH233\t\tm233f20\t\tmini-course\ttemp ```"
   ]
  },
  {
   "cell_type": "markdown",
   "metadata": {},
   "source": [
    "We can then change into the next directory\n",
    "```\n",
    "(base) MacBook-Pro-2:repos jacquelinealvarez$ cd mini-course/\n",
    "(base) MacBook-Pro-2:mini-course jacquelinealvarez$ ```"
   ]
  },
  {
   "cell_type": "markdown",
   "metadata": {},
   "source": [
    "Or we can change directly into the subdirectory by writing the path\n",
    "```\n",
    "base) MacBook-Pro-2:~ jacquelinealvarez$ cd repos/mini-course/\n",
    "(base) MacBook-Pro-2:mini-course jacquelinealvarez$ ```"
   ]
  },
  {
   "cell_type": "markdown",
   "metadata": {},
   "source": [
    "You can also use the tab key to help fill the path if there is more than one option\n",
    "```\n",
    "(base) MacBook-Pro-2:~ jacquelinealvarez$ cd repos/m\n",
    "m233f20/     mini-course/ ```"
   ]
  },
  {
   "cell_type": "markdown",
   "metadata": {},
   "source": [
    "#### Useful tips:\n",
    "1) If you type `cd` while in any directory and press enter, it will take you to the home directory.\n",
    "\n",
    "2) If you type `cd ..` will move you back to the previous directory\n",
    "\n",
    "3) `cd .` means the current directory you are in...but it will be useful later"
   ]
  },
  {
   "cell_type": "markdown",
   "metadata": {},
   "source": [
    "### Make Directory (mkdir)"
   ]
  },
  {
   "cell_type": "markdown",
   "metadata": {},
   "source": [
    "The `mkdir` command us used to create directories within your current directory.\n",
    "```\n",
    "(base) MacBook-Pro-2:~ jacquelinealvarez$ ls\n",
    "Applications\tDocuments\tLibrary\t\tPictures\trepos\n",
    "Box Sync\tDownloads\tMovies\t\tPublic\n",
    "Desktop\t\tDropbox\t\tMusic\t\tQt\n",
    "(base) MacBook-Pro-2:~ jacquelinealvarez$ mkdir temp\n",
    "(base) MacBook-Pro-2:~ jacquelinealvarez$ ls\n",
    "Applications\tDocuments\tLibrary\t\tPictures\trepos\n",
    "Box Sync\tDownloads\tMovies\t\tPublic\t\ttemp\n",
    "Desktop\t\tDropbox\t\tMusic\t\tQt ```"
   ]
  },
  {
   "cell_type": "markdown",
   "metadata": {},
   "source": [
    "### Copy (cp)"
   ]
  },
  {
   "cell_type": "markdown",
   "metadata": {},
   "source": [
    "The `cp` commands lets you copy a file or folder through the command line. It takes to arguments: 1) the location of the file you want to copy and 2) where you want to copy it. Looks like: `cp <file or folder> <location>`\n",
    "```\n",
    "(base) MacBook-Pro-2:~ jacquelinealvarez$ cd repos/mini-course/\n",
    "(base) MacBook-Pro-2:mini-course jacquelinealvarez$ cp pointers_joke.jpg /Users/jacquelinealvarez/temp\n",
    "(base) MacBook-Pro-2:mini-course jacquelinealvarez$ cd\n",
    "(base) MacBook-Pro-2:~ jacquelinealvarez$ cd temp\n",
    "(base) MacBook-Pro-2:temp jacquelinealvarez$ ls\n",
    "pointers_joke.jpg ```"
   ]
  },
  {
   "cell_type": "markdown",
   "metadata": {},
   "source": [
    "If you are copying folder, it is necessry to use the `-r` flag to copy the contents of the folder recursively. \n",
    "```\n",
    "cp -r <folder name> <location> ```"
   ]
  },
  {
   "cell_type": "markdown",
   "metadata": {},
   "source": [
    "### Move (mv)"
   ]
  },
  {
   "cell_type": "markdown",
   "metadata": {},
   "source": [
    "The `mv` command is similar to `cp`, except it will delete the original file. (Use this command wisely)\n",
    "```\n",
    "mv <file or folder> <location> ```"
   ]
  },
  {
   "cell_type": "markdown",
   "metadata": {},
   "source": [
    "### Remove (rm)"
   ]
  },
  {
   "cell_type": "markdown",
   "metadata": {},
   "source": [
    "The `rm` command deletes file or folders. When deleting folders, it is necessary to add the `-r` flag as we dide before for copying folders.\n",
    "```\n",
    "(base) MacBook-Pro-2:~ jacquelinealvarez$ ls\n",
    "Applications\tDocuments\tLibrary\t\tPictures\trepos\n",
    "Box Sync\tDownloads\tMovies\t\tPublic\t\ttemp\n",
    "Desktop\t\tDropbox\t\tMusic\t\tQt\n",
    "(base) MacBook-Pro-2:~ jacquelinealvarez$ rm -r temp\n",
    "(base) MacBook-Pro-2:~ jacquelinealvarez$ ls\n",
    "Applications\tDocuments\tLibrary\t\tPictures\trepos\n",
    "Box Sync\tDownloads\tMovies\t\tPublic\n",
    "Desktop\t\tDropbox\t\tMusic\t\tQt ```"
   ]
  },
  {
   "cell_type": "markdown",
   "metadata": {},
   "source": [
    "### Create files (touch)"
   ]
  },
  {
   "cell_type": "markdown",
   "metadata": {},
   "source": [
    "To create files, use the `touch` command. This creates a blank file, which you can then access in different ways later.\n",
    "\n",
    "Example: create a python file\n",
    "```\n",
    "(base) MacBook-Pro-2:~ jacquelinealvarez$ ls\n",
    "Applications\tDocuments\tLibrary\t\tPictures\trepos\n",
    "Box Sync\tDownloads\tMovies\t\tPublic\n",
    "Desktop\t\tDropbox\t\tMusic\t\tQt\n",
    "(base) MacBook-Pro-2:~ jacquelinealvarez$ touch temp.py\n",
    "(base) MacBook-Pro-2:~ jacquelinealvarez$ ls\n",
    "Applications\tDocuments\tLibrary\t\tPictures\trepos\n",
    "Box Sync\tDownloads\tMovies\t\tPublic\t\ttemp.py\n",
    "Desktop\t\tDropbox\t\tMusic\t\tQt ```"
   ]
  },
  {
   "cell_type": "markdown",
   "metadata": {},
   "source": [
    "### Using Vim"
   ]
  },
  {
   "cell_type": "markdown",
   "metadata": {},
   "source": [
    "Now that we created a python file, we want to edit the script. We are going to use the Linux editor Vim.\n",
    "\n",
    "Example:\n",
    "```\n",
    "(base) MacBook-Pro-2:~ jacquelinealvarez$ vim temp.py  ```"
   ]
  },
  {
   "cell_type": "markdown",
   "metadata": {},
   "source": [
    "#### Steps:\n",
    "\n",
    "1) Press `i` so that you see `-- INSERT --` at the bottom of the window. This means you are in edit mode.\n",
    "\n",
    "2) Make edits\n",
    "\n",
    "3) Press `esc` to exit edit mode.\n",
    "\n",
    "4) Use `:wq` to \"write\" changes and \"quit\" vim\n",
    "\n",
    "#### Notes:\n",
    "\n",
    "1) When you use `:wq`, you should see it at the bottom of the window were the `-- INSERT --` used to be.\n",
    "\n",
    "2) If no changes were made or you don't want to save your changes, then you can use `:q` to quit.\n"
   ]
  },
  {
   "cell_type": "markdown",
   "metadata": {},
   "source": [
    "### Display (cat)"
   ]
  },
  {
   "cell_type": "markdown",
   "metadata": {},
   "source": [
    "To display the contents of a file, use the `cat` command.\n",
    "\n",
    "Example:\n",
    "```\n",
    "(base) MacBook-Pro-2:~ jacquelinealvarez$ cat temp.py \n",
    "print('Hello World!') ```"
   ]
  },
  {
   "cell_type": "markdown",
   "metadata": {},
   "source": [
    "After checking your file, you can run the script using the following:\n",
    "\n",
    "Example: \n",
    "```\n",
    "(base) MacBook-Pro-2:~ jacquelinealvarez$ python temp.py \n",
    "Hello World! ```"
   ]
  },
  {
   "cell_type": "raw",
   "metadata": {},
   "source": []
  },
  {
   "cell_type": "markdown",
   "metadata": {},
   "source": [
    "### Other\n",
    "\n",
    "You can you "
   ]
  }
 ],
 "metadata": {
  "kernelspec": {
   "display_name": "Python 3",
   "language": "python",
   "name": "python3"
  },
  "language_info": {
   "codemirror_mode": {
    "name": "ipython",
    "version": 3
   },
   "file_extension": ".py",
   "mimetype": "text/x-python",
   "name": "python",
   "nbconvert_exporter": "python",
   "pygments_lexer": "ipython3",
   "version": "3.7.6"
  }
 },
 "nbformat": 4,
 "nbformat_minor": 4
}
