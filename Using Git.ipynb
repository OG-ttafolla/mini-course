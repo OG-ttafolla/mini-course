{
 "cells": [
  {
   "cell_type": "markdown",
   "metadata": {},
   "source": [
    "Reference: https://git-scm.com/book/en/v2\n",
    "\n",
    "Go to <https://github.com/> to create a free account."
   ]
  },
  {
   "cell_type": "markdown",
   "metadata": {},
   "source": [
    "# What is Git?\n",
    "\n",
    "Git is a languange used to track changes in a set of files, e.g. code. \n",
    "\n",
    "<img src=\"images/workflow.png\">\n",
    "\n",
    "### The basic Git workflow:\n",
    "1. You modify files in your working tree.\n",
    "2. You selectively stage just those changes you want to be part of your next commit, which adds only those changes to the staging area.\n",
    "3. You do a commit, which takes the files as they are in the staging area and stores that snapshot permanently to your Git directory."
   ]
  },
  {
   "cell_type": "markdown",
   "metadata": {},
   "source": [
    "## Install Git \n",
    "First check if git is already installed using the following code\n",
    "```\n",
    "(base) [username]$ git --version\n",
    "git version 2.24.3 (Apple Git-128)```\n",
    "\n",
    "If it is not installed then install using the shell command \n",
    "```\n",
    "(base) [username]$ sudo apt-get update\n",
    "(base) [username]$ sudo apt-get install git```"
   ]
  },
  {
   "cell_type": "markdown",
   "metadata": {},
   "source": [
    "## Set user account\n",
    "\n",
    "The first thing you should when you install Git is to set your user name and e-mail address. This is important because every Git commit uses this information:\n",
    "\n",
    "```$ git config --global user.name \"John Doe\"\n",
    "$ git config --global user.email johndoe@example.com\n",
    "```\n",
    "\n",
    "You can check your settings using\n",
    "\n",
    "` $ git config --list`"
   ]
  },
  {
   "cell_type": "markdown",
   "metadata": {},
   "source": [
    "## Credential helper\n",
    "\n",
    "Every time you commit the repository will ask for your username and password. By turning on the credential helper, Git will save your password in memory for some time. By default, Git will cache your password for 15 minutes.\n",
    "\n",
    "`$ git config --global credential.helper cache`\n",
    "\n",
    "To change the default password cache timeout to an hour enter the following:\n",
    "\n",
    "`$ git config --global credential.helper 'cache --timeout=3600'`\n",
    "\n",
    "Using `git config --list` again, you should see something similar to the following\n",
    "```\n",
    "(base) [username]$ git config --list\n",
    "credential.helper=osxkeychain\n",
    "user.name=Jacqueline Alvarez\n",
    "user.email=alvarez_jacky@outlook.com\n",
    "credential.helper=cache --timeout=3600 ```"
   ]
  },
  {
   "cell_type": "markdown",
   "metadata": {},
   "source": [
    "### Getting Help\n",
    "\n",
    "If you ever need help while using Git, there are three ways to get the manual page for any Git command:\n",
    "\n",
    "`$ git help <verb>\n",
    "$ git <verb> --help\n",
    "$ man git--<verb>`\n",
    "\n",
    "For example, you can get the manpage help for the `config` command by running\n",
    "\n",
    "`$ git help config`"
   ]
  },
  {
   "cell_type": "markdown",
   "metadata": {},
   "source": [
    "## This repository\n",
    "\n",
    "This notebook is located in a repository I created here https://github.com/jalvarez94/mini-course. You will be forking the repository to your github account and then cloning in onto your machine.\n",
    "\n",
    "<img src=\"images/repo.png\">"
   ]
  },
  {
   "cell_type": "markdown",
   "metadata": {},
   "source": [
    "### Forking\n",
    "A fork is a copy of a repository. Forking a repository allows you to experiment with changes on your own copy of the project without affecting the original project.\n",
    "\n",
    "To fork the repository, click on \"Fork\" located on the upper right corner. Now you own a copy of this repository on Github. \n",
    "\n",
    "Note: This is a snapshot of the repository and will not be updated on its own. (We will discuss this more later.)"
   ]
  },
  {
   "cell_type": "markdown",
   "metadata": {},
   "source": [
    "### Cloning\n",
    "Cloning a repository creates a local copy of the remote (on Github) repository. This allows you to make changes locally rather than directly on the sources files of the repository.\n",
    "\n",
    "Note: The cloned repo (local) and orginal repo (remote) do not automatically update or sync. We will do this using Git commands in the terminal.\n",
    "\n",
    "Before you clone the repository you should make a folder containing all of your repositories and change into that directory.\n",
    "\n",
    "``` $ mkdir repos\n",
    " $ cd repos```"
   ]
  },
  {
   "cell_type": "markdown",
   "metadata": {},
   "source": [
    "Then you would clone the repository to your machine with the command `git clone`.\n",
    "\n",
    "```$ git clone https://github.com/jalvarez94/mini-course.git```\n",
    "\n",
    "If you are cloning a fork, then make use you have the correct link.\n",
    "\n",
    "```$ git clone https://github.com/<your-username>/mini-course.git```"
   ]
  },
  {
   "cell_type": "markdown",
   "metadata": {},
   "source": [
    "The folder and all of the files should be copied within the repos folder. The `git status` command allows you to see the state of the current \"branch\". Make sure you change into the correct directory (`cd mini-course`) before using `git status`.\n",
    "\n",
    "```\n",
    "(base) MacBook-Pro-2:mini-course jacquelinealvarez$ git status\n",
    "On branch main\n",
    "Your branch is up to date with 'origin/main'. ```\n",
    "\n",
    "You might see stuff after this message...but we will get there."
   ]
  },
  {
   "cell_type": "markdown",
   "metadata": {},
   "source": [
    "### Pulling files\n",
    "\n",
    "After using the `git clone` command you will want to be sure to stay up to date with the most current changes in the repository. You can use the `git pull` command to update the current repository."
   ]
  },
  {
   "cell_type": "markdown",
   "metadata": {},
   "source": [
    "### Pushing files\n",
    "Before you commit or add any changes you should use the command git pull. This makes sure that you sync your (local) repo up to the latest changes in the (remote) repo.\n",
    "\n",
    "Pushing files is a multi-step process:\n",
    "1. First, we add files using `git add` command. If you want to add all of the files to the staging area then used `git add .` If you only want to add a single file then use `git add <filename>`.\n",
    "2. Next, we commit the files with a message. We use the command `git commit -m \"insert message here\"`.\n",
    "3. Finally, we push to the repository using the command `git push origin`."
   ]
  },
  {
   "cell_type": "markdown",
   "metadata": {},
   "source": [
    "#### Example"
   ]
  },
  {
   "cell_type": "markdown",
   "metadata": {},
   "source": [
    "Changing into working directory and check status using `git status`.\n",
    "````\n",
    "(base) MacBook-Pro-2:~ jacquelinealvarez$ cd repos/mini-course/\n",
    "(base) MacBook-Pro-2:mini-course jacquelinealvarez$ git status\n",
    "On branch main\n",
    "Your branch is up to date with 'origin/main'.\n",
    "\n",
    "Untracked files:\n",
    "  (use \"git add <file>...\" to include in what will be committed)\n",
    "\t.DS_Store\n",
    "\t.ipynb_checkpoints/\n",
    "\tCluster.ipynb\n",
    "\tInstalling Software.ipynb\n",
    "\tUsing Git.ipynb\n",
    "\timages/\n",
    "\n",
    "nothing added to commit but untracked files present (use \"git add\" to track)```"
   ]
  },
  {
   "cell_type": "markdown",
   "metadata": {},
   "source": [
    "Note that we have untracked files above, so now we want to add them to the staging area. Add files using `git add .` and check status again.\n",
    "```\n",
    "(base) MacBook-Pro-2:mini-course jacquelinealvarez$ git add .\n",
    "(base) MacBook-Pro-2:mini-course jacquelinealvarez$ git status\n",
    "On branch main\n",
    "Your branch is up to date with 'origin/main'.\n",
    "\n",
    "Changes to be committed:\n",
    "  (use \"git restore --staged <file>...\" to unstage)\n",
    "\tnew file:   .DS_Store\n",
    "\tnew file:   .ipynb_checkpoints/Cluster-checkpoint.ipynb\n",
    "\tnew file:   .ipynb_checkpoints/Installing Software-checkpoint.ipynb\n",
    "\tnew file:   .ipynb_checkpoints/Using Git-checkpoint.ipynb\n",
    "\tnew file:   Cluster.ipynb\n",
    "\tnew file:   Installing Software.ipynb\n",
    "\tnew file:   Using Git.ipynb\n",
    "\tnew file:   images/repo.png\n",
    "\tnew file:   images/workflow.png```"
   ]
  },
  {
   "cell_type": "markdown",
   "metadata": {},
   "source": [
    "We added the files to the staging area, now we want to commit them and leave a message using `git commit -m \"add message here\"`.\n",
    "```\n",
    "(base) MacBook-Pro-2:mini-course jacquelinealvarez$ git commit -m \"add initial images/notebooks\"\n",
    "[main 339c74a] add initial images/notebooks\n",
    " 9 files changed, 792 insertions(+)\n",
    " create mode 100644 .DS_Store\n",
    " create mode 100644 .ipynb_checkpoints/Cluster-checkpoint.ipynb\n",
    " create mode 100644 .ipynb_checkpoints/Installing Software-checkpoint.ipynb\n",
    " create mode 100644 .ipynb_checkpoints/Using Git-checkpoint.ipynb\n",
    " create mode 100644 Cluster.ipynb\n",
    " create mode 100644 Installing Software.ipynb\n",
    " create mode 100644 Using Git.ipynb\n",
    " create mode 100644 images/repo.png\n",
    " create mode 100644 images/workflow.png\n",
    "(base) MacBook-Pro-2:mini-course jacquelinealvarez$ git status\n",
    "On branch main\n",
    "Your branch is ahead of 'origin/main' by 1 commit.\n",
    "  (use \"git push\" to publish your local commits)\n",
    "\n",
    "nothing to commit, working tree clean```"
   ]
  },
  {
   "cell_type": "markdown",
   "metadata": {},
   "source": [
    "Last step is to push the files to the remote repository. We use the command `git push origin`.\n",
    "```\n",
    "(base) MacBook-Pro-2:mini-course jacquelinealvarez$ git push origin\n",
    "Username for 'https://github.com': jalvarez94\n",
    "Password for 'https://jalvarez94@github.com': \n",
    "Enumerating objects: 11, done.\n",
    "Counting objects: 100% (11/11), done.\n",
    "Delta compression using up to 12 threads\n",
    "Compressing objects: 100% (10/10), done.\n",
    "Writing objects: 100% (10/10), 393.38 KiB | 20.70 MiB/s, done.\n",
    "Total 10 (delta 0), reused 0 (delta 0)\n",
    "To https://github.com/jalvarez94/mini-course.git\n",
    "   fd411df..54ee960  main -> main ```"
   ]
  },
  {
   "cell_type": "markdown",
   "metadata": {},
   "source": [
    "Using `git status` we can check if our local and remote copies are up to date\n",
    "```\n",
    "(base) MacBook-Pro-2:mini-course jacquelinealvarez$ git status\n",
    "On branch main\n",
    "Your branch is up to date with 'origin/main'.\n",
    "\n",
    "nothing to commit, working tree clean ```"
   ]
  },
  {
   "cell_type": "markdown",
   "metadata": {},
   "source": [
    "### View history\n",
    "We can view the project history using `git log`.\n",
    "\n",
    "Example:\n",
    "```\n",
    "(base) MacBook-Pro-2:mini-course jacquelinealvarez$ git log\n",
    "commit 54ee960a8bbeedaff5f374b4adcc3c88d01bd8f4 (HEAD -> main, origin/main, origin/HEAD)\n",
    "Author: Jacqueline Alvarez <alvarez_jacky@outlook.com>\n",
    "Date:   Sat Mar 13 11:50:10 2021 -0800\n",
    "\n",
    "    add initial images/notebooks\n",
    "\n",
    "commit fd411df446d97d841fd335a4a132f16934ca6359\n",
    "Author: Jacqueline Alvarez <49382667+jalvarez94@users.noreply.github.com>\n",
    "Date:   Sat Mar 13 10:45:10 2021 -0800\n",
    "\n",
    "    Initial commit\n",
    "```"
   ]
  },
  {
   "cell_type": "markdown",
   "metadata": {},
   "source": [
    "## Helpful Commands"
   ]
  },
  {
   "cell_type": "markdown",
   "metadata": {},
   "source": [
    "If a commit only exists in the local repository, you can amend the commit message using the command `git commit --amend`. This will open a window in text editor, such as Vim. For more details on Vim see the notebook on Linux Commands."
   ]
  },
  {
   "cell_type": "markdown",
   "metadata": {},
   "source": [
    "## Syncing a Fork of a Github Repository"
   ]
  },
  {
   "cell_type": "markdown",
   "metadata": {},
   "source": [
    "Reference: https://ardalis.com/syncing-a-fork-of-a-github-repository-with-upstream/\n",
    "\n",
    "Recall we forked the orginal repository, so everyone should have their own copy of the entire repository. If changes were made on the orginal repository and you would like to sync your copy (fork), then we use the following steps."
   ]
  },
  {
   "cell_type": "markdown",
   "metadata": {},
   "source": [
    "If you forked a repository then cloned it onto a local system, you have a local copy and a remote copy. To check which remotes git is tracking we use the following command:\n",
    "```\n",
    "$ git remote\n",
    "origin ```"
   ]
  },
  {
   "cell_type": "markdown",
   "metadata": {},
   "source": [
    "We see that we only have the origin of the cloned repository (this is your fork on Github). We want to add the (remote) repository from which you forked and we will name it `upstream`.\n",
    "```\n",
    "$ git remote add upstream https://github.com/jalvarez94/mini-course.git```"
   ]
  },
  {
   "cell_type": "markdown",
   "metadata": {},
   "source": [
    "After we can check if it worked using `git remote` again.\n",
    "```\n",
    "$ git remote\n",
    "origin\n",
    "upstream ```"
   ]
  },
  {
   "cell_type": "markdown",
   "metadata": {},
   "source": [
    "Now that git has access to both remote repositories, we want to sync them. Note that here are 3 git repositories we have to worry about: upstream (original repo), origin (forked repo), and local (cloned fork). In order sync the fork with the origina repo, we have to first get the changes from upstream onto local, then push to origin.\n",
    "\n",
    "To get changes from the upstream, we fetch them using:\n",
    "```\n",
    "$ git fetch upstream```"
   ]
  },
  {
   "cell_type": "markdown",
   "metadata": {},
   "source": [
    "Now you want to pull the changes (from upstream) onto your local repository (here we will call this main). If you want to pull these changes onto a different branch, we have to do something a little different, but for now we are just updating the main branch.\n",
    "```\n",
    "$ git pull upstream main ```"
   ]
  },
  {
   "cell_type": "markdown",
   "metadata": {},
   "source": [
    "At this point the changes are on your local repository only, so now we push them to the remote repository on Github (origin).\n",
    "```\n",
    "$ git push origin ```"
   ]
  },
  {
   "cell_type": "markdown",
   "metadata": {},
   "source": [
    "All three repositories should be synced at this point."
   ]
  }
 ],
 "metadata": {
  "kernelspec": {
   "display_name": "Python 3",
   "language": "python",
   "name": "python3"
  },
  "language_info": {
   "codemirror_mode": {
    "name": "ipython",
    "version": 3
   },
   "file_extension": ".py",
   "mimetype": "text/x-python",
   "name": "python",
   "nbconvert_exporter": "python",
   "pygments_lexer": "ipython3",
   "version": "3.7.6"
  }
 },
 "nbformat": 4,
 "nbformat_minor": 4
}
