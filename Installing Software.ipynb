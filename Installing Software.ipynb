{
 "cells": [
  {
   "cell_type": "markdown",
   "metadata": {},
   "source": [
    "# Installing Anaconda\n",
    "We will use PyTorch for our machine learning applications. In order to install this package we will first install the anaconda package manager in our local directory. Download the Anaconda from https://www.anaconda.com/download/#linux. We will be using the python 3.8 version.\n",
    "\n",
    "Follow the prompt to accept the licensing terms and accept the location where it will be installed\n",
    "\n",
    "You might be asked if you wish to install Visual Studio Code. This is not necessary and so you do not have to install it."
   ]
  },
  {
   "cell_type": "markdown",
   "metadata": {},
   "source": [
    "# Installing Pytorch\n",
    "Once Anaconda is installed in your home directory we will install pytorch (https://pytorch.org/). This is done using the Anaconda installer conda. \n",
    "\n",
    "To install pytorch and torchvision use:\n",
    "\n",
    "            [username]$ conda install pytorch torchvision torchaudio -c pytorch\n",
    "follow the prompts and you will have installed Pytorch 1.5.0"
   ]
  },
  {
   "cell_type": "markdown",
   "metadata": {},
   "source": [
    "To check if this is installed correctly use the following commands in the terminal:\n",
    "```\n",
    "(base) [username]$ pytorch\n",
    ">>> import torch\n",
    ">>> print(torch.__version__)\n",
    "```"
   ]
  },
  {
   "cell_type": "code",
   "execution_count": null,
   "metadata": {},
   "outputs": [],
   "source": []
  }
 ],
 "metadata": {
  "kernelspec": {
   "display_name": "Python 3",
   "language": "python",
   "name": "python3"
  },
  "language_info": {
   "codemirror_mode": {
    "name": "ipython",
    "version": 3
   },
   "file_extension": ".py",
   "mimetype": "text/x-python",
   "name": "python",
   "nbconvert_exporter": "python",
   "pygments_lexer": "ipython3",
   "version": "3.7.6"
  }
 },
 "nbformat": 4,
 "nbformat_minor": 4
}
