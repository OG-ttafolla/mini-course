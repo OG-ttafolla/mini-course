{
 "cells": [
  {
   "cell_type": "markdown",
   "metadata": {},
   "source": [
    "# Cluster Access #\n",
    "An account can be requested through the following cite:\n",
    "https://ucmerced.service-now.com/hub/com.glideapp.servicecatalog_cat_item_view.do?v=1&sysparm_id=dcffbfd84f1b4a002f3bd49f0310c769&sysparm_link_parent=d2ea335d4faa42002f3bd49f0310c7d1&sysparm_catalog=e50bc5494fd202006137d0af0310c756&sysparm_catalog_view=catalog_IT_Service\n",
    "\n",
    "If you are using windows, you can download PUTTY here: https://www.putty.org/\n",
    "\n",
    "You will ssh into the cluster using the following command in the terminal (linux or mac) or through PUTTY (windows):\n",
    "\n",
    "```ssh <username>@merced.ucmerced.edu```"
   ]
  },
  {
   "cell_type": "markdown",
   "metadata": {},
   "source": [
    "You will be asked to enter you password: \n",
    "\n",
    "```<username>@merced.ucmerced.edu's password:```"
   ]
  },
  {
   "cell_type": "markdown",
   "metadata": {},
   "source": [
    "Follow the prompt and you should arrive at the following screen"
   ]
  },
  {
   "cell_type": "markdown",
   "metadata": {},
   "source": [
    "```\n",
    "Last login: Thu Jan  7 14:20:25 2021 from 172.28.10.91\n",
    "───────────────────────────────────────────────────────────────────────────\n",
    "     .--.                                                     .          \n",
    "   .'_\\/_'.          __  _____________  ________________       \\ | /     \n",
    "   '. /\\ .'         /  |/  / ____/ __ \\/ ____/ ____/ __ \\    '-.;;;.-'   \n",
    "     \"||\"          / /|_/ / __/ / /_/ / /   / __/ / / / /   -==;;;;;==-  \n",
    "      || /\\       / /  / / /___/ _, _/ /___/ /___/ /_/ /     .-';;;'-.   \n",
    "   /\\ ||//\\)     /_/  /_/_____/_/ |_|\\____/_____/_____/        / | \\     \n",
    "  (/\\\\||/                                                        '       \n",
    "─────\\||/──────────────────────────────────────────────────────────────────\n",
    "_____________________________________________________________________________________\n",
    "Welome to MERCED, the Multi-Environment Research Computer for Exploration\n",
    "and Discovery!\n",
    "\n",
    "Please acknowledge time on MERCED in all papers and other forms of\n",
    "dissemination, with note of the funding NSF proposal number.\n",
    "\n",
    "MERCED is supported by the National Science Foundation (Grant No. ACI-1429783).\n",
    "\n",
    "┌──────────────────────────────────────────────────────────────────────────┐\n",
    "│LIMITS:                                                                   │\n",
    "├──────────────────────────────────────────────────────────────────────────┤\n",
    "│    <=20-Core Nodes  >=20-Core Nodes     Wall Clock     Max Cores Per User│\n",
    "│std.q        25              51            24 hours            200        │\n",
    "│fast.q       25              78             4 hours            200        │\n",
    "│fast-gpu.q    2              2              4 hours             40        │\n",
    "│full.q        5              0              4 days             100        │\n",
    "│long.q       21              51            14 days             200        │\n",
    "│gpu.q         4              0              7 days          Unlimited     │\n",
    "├──────────────────────────────────────────────────────────────────────────┤\n",
    "│QUESTIONS ON USING HPC? PLEASE ATTEND:                                    |\n",
    "|HPC ZOOM IN SESSIONS - Friday 10:30 am - 12 pm. Zoom URL                  |\n",
    "|https://ucmerced.zoom.us/j/644790605?pwd=VnJaTWNGV21kRG5LQlhxSkhMN2E5Zz09 |\n",
    "|                                                                          |\n",
    "|News and updates: https://github.com/ucmerced/merced-cluster/wiki/News    │\n",
    "|                                                                          │\n",
    "├──────────────────────────────────────────────────────────────────────────┤\n",
    "│      Jupyter is accessible at https://merced.ucmerced.edu/jupyter/       │\n",
    "├──────────────────────────────────────────────────────────────────────────┤\n",
    "├──────────────────────────────────────────────────────────────────────────┤\n",
    "│\t\tMrcd01-mrcd24 infiniband connection are retired\t\t   │\n",
    "└──────────────────────────────────────────────────────────────────────────┘\n",
    "***** USERS ARE RESPONSIBLE FOR BACKING UP THEIR OWN PRIMARY RESEARCH DATA ****\n",
    "____________________________________________________________________________\n",
    "\n",
    "\n",
    "(base) [jalvarez94@mrcdlogin ~] \n",
    "```"
   ]
  },
  {
   "cell_type": "code",
   "execution_count": null,
   "metadata": {},
   "outputs": [],
   "source": []
  }
 ],
 "metadata": {
  "kernelspec": {
   "display_name": "Python 3",
   "language": "python",
   "name": "python3"
  },
  "language_info": {
   "codemirror_mode": {
    "name": "ipython",
    "version": 3
   },
   "file_extension": ".py",
   "mimetype": "text/x-python",
   "name": "python",
   "nbconvert_exporter": "python",
   "pygments_lexer": "ipython3",
   "version": "3.7.6"
  }
 },
 "nbformat": 4,
 "nbformat_minor": 4
}
