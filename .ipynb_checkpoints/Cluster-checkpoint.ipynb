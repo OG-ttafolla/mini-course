{
 "cells": [
  {
   "cell_type": "markdown",
   "metadata": {},
   "source": [
    "# Cluster Access #\n",
    "An account can be requested through the following cite:\n",
    "\n",
    "https://ucmerced.service-now.com/hub/com.glideapp.servicecatalog_cat_item_view.do?v=1&sysparm_id=dcffbfd84f1b4a002f3bd49f0310c769&sysparm_link_parent=d2ea335d4faa42002f3bd49f0310c7d1&sysparm_catalog=e50bc5494fd202006137d0af0310c756&sysparm_catalog_view=catalog_IT_Service\n",
    "\n",
    "If you are using windows, you can download PUTTY here: https://www.putty.org/\n",
    "\n",
    "### Logging in\n",
    "NOTE: Make sure you are on the school's network. Either on campus or through VPN.\n",
    "\n",
    "You will ssh into the cluster using the following command in the terminal (linux or mac) or through PUTTY (windows):\n",
    "\n",
    "```ssh <username>@merced.ucmerced.edu```"
   ]
  },
  {
   "cell_type": "markdown",
   "metadata": {},
   "source": [
    "You will be asked to enter you password: \n",
    "\n",
    "```<username>@merced.ucmerced.edu's password:```"
   ]
  },
  {
   "cell_type": "markdown",
   "metadata": {},
   "source": [
    "Follow the prompt and you should arrive at the following screen"
   ]
  },
  {
   "cell_type": "markdown",
   "metadata": {},
   "source": [
    "```\n",
    "Last login: Thu Jan  7 14:20:25 2021 from 172.28.10.91\n",
    "───────────────────────────────────────────────────────────────────────────\n",
    "     .--.                                                     .          \n",
    "   .'_\\/_'.          __  _____________  ________________       \\ | /     \n",
    "   '. /\\ .'         /  |/  / ____/ __ \\/ ____/ ____/ __ \\    '-.;;;.-'   \n",
    "     \"||\"          / /|_/ / __/ / /_/ / /   / __/ / / / /   -==;;;;;==-  \n",
    "      || /\\       / /  / / /___/ _, _/ /___/ /___/ /_/ /     .-';;;'-.   \n",
    "   /\\ ||//\\)     /_/  /_/_____/_/ |_|\\____/_____/_____/        / | \\     \n",
    "  (/\\\\||/                                                        '       \n",
    "─────\\||/──────────────────────────────────────────────────────────────────\n",
    "_____________________________________________________________________________________\n",
    "Welome to MERCED, the Multi-Environment Research Computer for Exploration\n",
    "and Discovery!\n",
    "\n",
    "Please acknowledge time on MERCED in all papers and other forms of\n",
    "dissemination, with note of the funding NSF proposal number.\n",
    "\n",
    "MERCED is supported by the National Science Foundation (Grant No. ACI-1429783).\n",
    "\n",
    "┌──────────────────────────────────────────────────────────────────────────┐\n",
    "│LIMITS:                                                                   │\n",
    "├──────────────────────────────────────────────────────────────────────────┤\n",
    "│    <=20-Core Nodes  >=20-Core Nodes     Wall Clock     Max Cores Per User│\n",
    "│std.q        25              51            24 hours            200        │\n",
    "│fast.q       25              78             4 hours            200        │\n",
    "│fast-gpu.q    2              2              4 hours             40        │\n",
    "│full.q        5              0              4 days             100        │\n",
    "│long.q       21              51            14 days             200        │\n",
    "│gpu.q         4              0              7 days          Unlimited     │\n",
    "├──────────────────────────────────────────────────────────────────────────┤\n",
    "│QUESTIONS ON USING HPC? PLEASE ATTEND:                                    |\n",
    "|HPC ZOOM IN SESSIONS - Friday 10:30 am - 12 pm. Zoom URL                  |\n",
    "|https://ucmerced.zoom.us/j/644790605?pwd=VnJaTWNGV21kRG5LQlhxSkhMN2E5Zz09 |\n",
    "|                                                                          |\n",
    "|News and updates: https://github.com/ucmerced/merced-cluster/wiki/News    │\n",
    "|                                                                          │\n",
    "├──────────────────────────────────────────────────────────────────────────┤\n",
    "│      Jupyter is accessible at https://merced.ucmerced.edu/jupyter/       │\n",
    "├──────────────────────────────────────────────────────────────────────────┤\n",
    "├──────────────────────────────────────────────────────────────────────────┤\n",
    "│\t\tMrcd01-mrcd24 infiniband connection are retired\t\t   │\n",
    "└──────────────────────────────────────────────────────────────────────────┘\n",
    "***** USERS ARE RESPONSIBLE FOR BACKING UP THEIR OWN PRIMARY RESEARCH DATA ****\n",
    "____________________________________________________________________________\n",
    "\n",
    "\n",
    "(base) [jalvarez94@mrcdlogin ~] \n",
    "```"
   ]
  },
  {
   "cell_type": "markdown",
   "metadata": {},
   "source": [
    "This is your home folder on the head/login node and you can use linux commands on here to navigate through different directories. See the Linux Commands notebook for more information on basic commands."
   ]
  },
  {
   "cell_type": "markdown",
   "metadata": {},
   "source": [
    "### Transferring Files\n",
    "Use FileZilla (https://filezilla-project.org/) to move files between your local machine and your home directory on the cluster. Make sure you are on the school's network, either on campus or through VPN.\n",
    "\n",
    "To connect to the cluster through FileZilla use the following:\n",
    "\n",
    "Hostname: merced.ucmerced.edu \\\n",
    "Username: < your-username > \\\n",
    "Password: < password > \\\n",
    "Host: 22\n",
    "\n",
    "Example:\n",
    "<img src=\"images/filezilla.png\">"
   ]
  },
  {
   "cell_type": "markdown",
   "metadata": {},
   "source": [
    "### Installing Anaconda\n",
    "In order to install PyTorch, we need to make sure Anaconda is installed. To verify use the following: \n",
    "```\n",
    "(base) [jalvarez94@mrcdlogin ~]$ conda --version\n",
    "conda 4.6.14 ```\n",
    "\n",
    "If you return a version, then move onto installing PyTorch. If not, we need to install Anaconda.\n",
    "\n",
    "1. Download the Anaconda for Linux Installer from https://www.anaconda.com/products/individual#linux\n",
    "2. Use FileZilla to transfer the download onto your home directory on the cluster. \n",
    "3. From you home directory on the cluster execute the command `bash Anaconda3-2020.11-Linux-x86_64.sh`\n",
    "4. Accept the licensing and location of install."
   ]
  },
  {
   "cell_type": "markdown",
   "metadata": {},
   "source": [
    "### Installing PyTorch\n",
    "Next, we will install PyTorch by using the Anaconda installer with the following prompt:\n",
    "```\n",
    "conda install pytorch torchvision torchaudio cudatoolkit=10.2 -c pytorch ```\n",
    "This will install PyTorch on your base environment. Alternatively, we can create PyTorch environment."
   ]
  },
  {
   "cell_type": "markdown",
   "metadata": {},
   "source": [
    "#### Creating a new environment\n",
    "We can use conda to create different environments. A virtual environment is a named, isolated, working copy of Python that that maintains its own files, directories, and paths. Using different environments makes it easy to separate different projects and avoid problems with dependencies and version requirements.\n",
    "\n",
    "To directly create a new environment (with the name `pytorch`) with PyTorch:\n",
    "```\n",
    "conda create -n pytorch -c pytorch pytorch torchvision torchaudio cudatoolkit=10.2 -c pytorch ```\n",
    "\n",
    "To activate the environemnt use the command `conda activate pytorch`.\n",
    "\n",
    "To end a session use the command `conda deactivate`.\n",
    "\n",
    "An alternative method of creating a new enviroment is to first create the environment, then install PyTorch within environment.\n",
    "```\n",
    "$ conda create -n pytorch\n",
    "$ conda activate pytorch\n",
    "$ conda install pytorch torchvision torchaudio cudatoolkit=10.2 -c pytorch ```\n",
    "\n",
    "Note: It is recommended to install all the packages you want to include in an environment at the same time to help avoid dependency conflicts."
   ]
  },
  {
   "cell_type": "markdown",
   "metadata": {},
   "source": [
    "### Submitting a job (with example)\n",
    "Now we want to submit a job on the cluster and test if our PyTorch install is working.\n",
    "\n",
    "#### Test Script\n",
    "PyTorch is implemented in Python, so we will create a test script to submit on the cluster.\n",
    "1. Create python file in home directory: `touch GPU_test.py`\n",
    "2. Open script using Vim: `vim GPU_test.py`\n",
    "3. Edit script in Vim. Reminder: Use press `I` to edit, then `esc` and `:wq` to exit edit mode and save changes.\n",
    "\n",
    "```\n",
    "import torch\n",
    "import torch.nn as nn\n",
    "print(torch.version.cuda)\n",
    "DEVICE = torch.cuda.current_device()\n",
    "print(torch.cuda.get_device_name(DEVICE))\n",
    "\n",
    "cuda = True if torch.cuda.is_available() else False\n",
    "print(cuda) ```"
   ]
  },
  {
   "cell_type": "markdown",
   "metadata": {},
   "source": [
    "### Slurm\n",
    "The MERCED cluster uses Slurm, which is an open sourse jub scheduler for Linux clusters.\n",
    "\n",
    "#### Commands\n",
    "`sinfo`: reports the status of different partitions and nodes.\n",
    "```\n",
    "(base) [jalvarez94@mrcdlogin ~]$ sinfo\n",
    "PARTITION      AVAIL  TIMELIMIT  NODES  STATE NODELIST \n",
    "long.q            up 14-00:00:0      3   idle mrcd[38-39,67] \n",
    "full.q            up 4-00:00:00      5    mix mrcd[20-24] \n",
    "gpu.q             up 7-00:00:00      1  alloc mrcdg04 \n",
    "gpu.q             up 7-00:00:00      3   idle mrcdg[01-03] \n",
    "fast-gpu.q        up    4:00:00      2    mix mrcdg[05,07] \n",
    "fast-gpu.q        up    4:00:00      2   idle mrcdg[06,08] \n",
    "scavenge_gpu.q    up 1-00:00:00      2    mix mrcdg[05,07] \n",
    "scavenge_gpu.q    up 1-00:00:00      2   idle mrcdg[06,08] \n",
    "scavenge.q        up 1-00:00:00      8    mix mrcd[95-96,107-112] \n",
    "scavenge.q        up 1-00:00:00     18   idle mrcd[87-94,97-104,113-114] \n",
    "bdutagaci.q       up   infinite      1    mix mrcdg07 \n",
    "bdutagaci.q       up   infinite      1   idle mrcdg08 \n",
    "dstrubbe.q        up   infinite      2    mix mrcd[95-96] \n",
    "dstrubbe.q        up   infinite     11   idle mrcd[87-94,97-99] \n",
    "npetra.q          up   infinite      2   idle mrcd[87-88] \n",
    "apj.q             up 14-00:00:0      4    mix mrcd[109-112] \n",
    "mctavish.q        up   infinite      5   idle mrcd[100-104] \n",
    "amartini.q        up   infinite      4    mix mrcd[109-112] \n",
    "appliedmath.q     up 7-00:00:00      1    mix mrcdg05 \n",
    "appliedmath.q     up 7-00:00:00      1   idle mrcdg06 \n",
    "enowadnick.q      up 14-00:00:0      2    mix mrcd[107-108] \n",
    "enowadnick.q      up 14-00:00:0      2   idle mrcd[113-114] \n",
    "skhatri3.q        up   infinite      4    mix mrcd[95-96,107-108] \n",
    "skhatri3.q        up   infinite      3   idle mrcd[97,113-114] ```\n",
    "\n",
    "`squeue`: reports the status of all submitted jobs. By default, it reports the running jobs in priority order and then the pending jobs in priority order.\n",
    "\n",
    "Using the `-p` flag, we can look up a particular partition:\n",
    "```\n",
    "$ squeue -p gpu.q\n",
    "             JOBID PARTITION     NAME     USER ST       TIME  NODES NODELIST(REASON) \n",
    "           2045401     gpu.q vcci_r89 ledwards  R 2-05:28:14      1 mrcdg04 ```\n",
    "           \n",
    "Using the `-u` flag we can look up a particular user:\n",
    "```\n",
    "$ squeue -u <user-name> ```"
   ]
  },
  {
   "cell_type": "markdown",
   "metadata": {},
   "source": [
    "`sbatch` is used to submit a job script for execution.\n",
    "\n",
    "We will now create a job script using `touch test_job.sh` and then edit the file using `vim test_job.sh`. Edit the file with the following:\n",
    "```\n",
    "#!/bin/bash\n",
    "#\n",
    "#\n",
    "#SBATCH --job-name=GPU_test_applied\n",
    "#SBATCH --output /home/<username>/%j.%N.out\n",
    "#SBATCH -p gpu.q\n",
    "#SBATCH --time=00:10:00\n",
    "\n",
    "conda activate pytorch\n",
    "\n",
    "python GPU_test.py ```\n",
    "Note: You do not need the conda activate if you are not using an environment.\n",
    "\n",
    "To submit the job use the command: `sbatch test_job.sh`\n",
    "\n",
    "While the job is running, you can check the status of your job using `squeue -u <user-name>`. After the job has finised running, you should see an output file in your home directory. You can view the contents of the file by using the `cat` command:\n",
    "```\n",
    "$ cat <jobnumber>.<nodeused>.out ```\n",
    "You should see three lines of text which includes the cuda version, name of device, and \"True\"."
   ]
  },
  {
   "cell_type": "markdown",
   "metadata": {},
   "source": [
    "#### Running interactive session\n",
    "An interactive session on slurm lets you run directly on the terminal line instead of submitting a job. However, you have to be careful because 1) your job will only continue to run while your current terminal connection is alive and 2) any output is not save (unless you explicity save stuff in your code).\n",
    "\n",
    "Note 1: You should always make sure to save any necessary results.\n",
    "\n",
    "Note 2: You cannot run an interactve session if there are no open resources.\n",
    "\n",
    "To run an interactive session use the `srun` command:\n",
    "```\n",
    "srun -p <partition_name> --nodelist = <node> --pty bash ```\n",
    "\n",
    "Some examples:\n",
    "```\n",
    "srun -p gpu.q --pty bash\n",
    "\n",
    "srun -p appliedmath.q --pty bash\n",
    "\n",
    "srun -p appliedmath.q --nodelist=mrcdg06 -t 0-03:00:00 --pty bash```"
   ]
  },
  {
   "cell_type": "markdown",
   "metadata": {},
   "source": [
    "#### Cancel Jobs\n",
    "To cancel any job or pending job, use the command: `scancel`\n",
    "\n",
    "To cancel a specific job: `scancel <job-id>`"
   ]
  }
 ],
 "metadata": {
  "kernelspec": {
   "display_name": "Python 3",
   "language": "python",
   "name": "python3"
  },
  "language_info": {
   "codemirror_mode": {
    "name": "ipython",
    "version": 3
   },
   "file_extension": ".py",
   "mimetype": "text/x-python",
   "name": "python",
   "nbconvert_exporter": "python",
   "pygments_lexer": "ipython3",
   "version": "3.7.6"
  }
 },
 "nbformat": 4,
 "nbformat_minor": 4
}
